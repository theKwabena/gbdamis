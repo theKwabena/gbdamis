{
 "cells": [
  {
   "cell_type": "code",
   "execution_count": 3,
   "metadata": {},
   "outputs": [
    {
     "ename": "ModuleNotFoundError",
     "evalue": "No module named 'requests'",
     "output_type": "error",
     "traceback": [
      "\u001b[0;31m---------------------------------------------------------------------------\u001b[0m",
      "\u001b[0;31mModuleNotFoundError\u001b[0m                       Traceback (most recent call last)",
      "Cell \u001b[0;32mIn[3], line 1\u001b[0m\n\u001b[0;32m----> 1\u001b[0m \u001b[39mimport\u001b[39;00m \u001b[39mrequests\u001b[39;00m\n\u001b[1;32m      2\u001b[0m \u001b[39mimport\u001b[39;00m \u001b[39mjson\u001b[39;00m\n",
      "\u001b[0;31mModuleNotFoundError\u001b[0m: No module named 'requests'"
     ]
    }
   ],
   "source": []
  },
  {
   "cell_type": "code",
   "execution_count": 1,
   "metadata": {},
   "outputs": [],
   "source": [
    "# Create a class to handle all paystack related functions\n",
    "# The class should import the paystack secret key from project settings\n",
    "# The constructor should initialize the paystack secret key and set it as an instance variable\n",
    "# The class should set the headers for the paystack api using the secret key\n",
    "\n",
    "class Paystack:\n",
    "    def __init__(self):\n",
    "        self.base_url = 'https://api.paystack.co'\n",
    "        self.secret_key = settings.PAYSTACK_SECRET_KEY\n",
    "        self.headers = dict(Authorization=f'Bearer {self.secret_key}', Content_Type='application/json')"
   ]
  },
  {
   "cell_type": "code",
   "execution_count": null,
   "metadata": {},
   "outputs": [],
   "source": [
    "class Charge(Paystack):\n",
    "    def __init__(self):\n",
    "        Paystack.__init__(self) \n",
    "        self.charge_url = f'{self.base_url}/charge'\n",
    "        self.reference = None\n",
    "        self.contact = dict(number=None, provider=None)\n",
    "        self.amount = None\n",
    "        self.member = None\n",
    "\n",
    "    def get_provider(self, number=None):\n",
    "        if number:\n",
    "            self.contact.number = number\n",
    "        \n",
    "        mtn = ['024', '054', '055']\n",
    "        vodafone = ['020', '050']\n",
    "        airteltigo = ['027', '057']\n",
    "        if self.contact.number.startswith(tuple(mtn)):\n",
    "            self.phone.provider = 'MTN'\n",
    "            return self.phone.provider\n",
    "        elif self.contact.number.startswith(tuple(vodafone)):\n",
    "            self.phone.provider = 'vod'\n",
    "            return self.phone.provider\n",
    "        elif self.contact.number.startswith(tuple(airteltigo)):\n",
    "            self.phone.provider = 'tgo'\n",
    "            return self.phone.provider\n",
    "        else :\n",
    "            return None\n",
    "\n",
    "    def request_charge(self,number=None):\n",
    "        data = dict(\n",
    "            amount=self.amount,\n",
    "            email=self.member.email,\n",
    "            currency = 'GHS',\n",
    "            mobile_money = dict(\n",
    "                phone = number if number else self.contact.number,\n",
    "                provider = self.get_provider(number if number else None)\n",
    "            )\n",
    "        )\n",
    "        response = requests.post(self.charge_url, data=data, headers=self.headers)\n",
    "        if response.status_code == 200:\n",
    "            return response.json()\n",
    "        else:\n",
    "            return None"
   ]
  }
 ],
 "metadata": {
  "kernelspec": {
   "display_name": "gbdamis",
   "language": "python",
   "name": "python3"
  },
  "language_info": {
   "codemirror_mode": {
    "name": "ipython",
    "version": 3
   },
   "file_extension": ".py",
   "mimetype": "text/x-python",
   "name": "python",
   "nbconvert_exporter": "python",
   "pygments_lexer": "ipython3",
   "version": "3.9.16"
  },
  "orig_nbformat": 4
 },
 "nbformat": 4,
 "nbformat_minor": 2
}
